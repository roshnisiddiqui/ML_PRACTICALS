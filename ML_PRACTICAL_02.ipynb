{
 "cells": [
  {
   "cell_type": "code",
   "execution_count": 7,
   "id": "3313c8af-7eb2-45cd-974e-d87e1984c024",
   "metadata": {},
   "outputs": [],
   "source": [
    "import pandas as pd\n",
    "import numpy as np"
   ]
  },
  {
   "cell_type": "code",
   "execution_count": 8,
   "id": "5c6f3d86-775e-4a0e-b199-e55a655f569a",
   "metadata": {},
   "outputs": [],
   "source": [
    "data = {\n",
    "    \"Name\": [\"Alice\", \"bob\", \"Charlie\", \"David\", \"Eve\"],\n",
    "    \"Age\" : [25, 30, 22, 29, 27],\n",
    "    \"Score\": [85, 90, 78, 88, 92]\n",
    "}\n",
    "df = pd.DataFrame(data)"
   ]
  },
  {
   "cell_type": "code",
   "execution_count": 9,
   "id": "a71a1436-4db2-4cfc-b588-2d8957e8b4cc",
   "metadata": {},
   "outputs": [
    {
     "name": "stdout",
     "output_type": "stream",
     "text": [
      "DataFrame:\n",
      "       Name  Age  Score\n",
      "0    Alice   25     85\n",
      "1      bob   30     90\n",
      "2  Charlie   22     78\n",
      "3    David   29     88\n",
      "4      Eve   27     92\n"
     ]
    }
   ],
   "source": [
    "print(\"DataFrame:\\n\", df)"
   ]
  },
  {
   "cell_type": "code",
   "execution_count": 10,
   "id": "53a925b6-4c4e-4299-b4bd-6608e8897dc5",
   "metadata": {},
   "outputs": [
    {
     "name": "stdout",
     "output_type": "stream",
     "text": [
      "\n",
      "REtrieved Column - Age:\n",
      " 0    25\n",
      "1    30\n",
      "2    22\n",
      "3    29\n",
      "4    27\n",
      "Name: Age, dtype: int64\n"
     ]
    }
   ],
   "source": [
    "age_column = df[\"Age\"]\n",
    "print(\"\\nREtrieved Column - Age:\\n\", age_column)"
   ]
  },
  {
   "cell_type": "code",
   "execution_count": 11,
   "id": "5ffc4c41-0038-408a-927d-dd03198e976e",
   "metadata": {},
   "outputs": [
    {
     "name": "stdout",
     "output_type": "stream",
     "text": [
      "\n",
      "Summary Statistics of DataFrame:\n",
      "              Age      Score\n",
      "count   5.000000   5.000000\n",
      "mean   26.600000  86.600000\n",
      "std     3.209361   5.458938\n",
      "min    22.000000  78.000000\n",
      "25%    25.000000  85.000000\n",
      "50%    27.000000  88.000000\n",
      "75%    29.000000  90.000000\n",
      "max    30.000000  92.000000\n"
     ]
    }
   ],
   "source": [
    "summary = df.describe()\n",
    "print(\"\\nSummary Statistics of DataFrame:\\n\", summary)"
   ]
  },
  {
   "cell_type": "code",
   "execution_count": 12,
   "id": "2ce2df09-fa33-4939-81ef-158b7335276c",
   "metadata": {},
   "outputs": [],
   "source": [
    "mean_values = df.select_dtypes(include=[np.number]).mean()\n",
    "std_values = df.select_dtypes(include=[np.number]).std()"
   ]
  },
  {
   "cell_type": "code",
   "execution_count": 13,
   "id": "aac53f71-b47e-4984-8d95-09d85f72c86f",
   "metadata": {},
   "outputs": [
    {
     "name": "stdout",
     "output_type": "stream",
     "text": [
      "\n",
      "Mean Values:\n",
      " Age      26.6\n",
      "Score    86.6\n",
      "dtype: float64\n",
      "\n",
      "Standard Deviation Values:\n",
      " Age      3.209361\n",
      "Score    5.458938\n",
      "dtype: float64\n"
     ]
    }
   ],
   "source": [
    "print(\"\\nMean Values:\\n\", mean_values)\n",
    "print(\"\\nStandard Deviation Values:\\n\", std_values)"
   ]
  },
  {
   "cell_type": "code",
   "execution_count": null,
   "id": "dab1ea31-804b-47e5-9f48-e4cc10dc2bbc",
   "metadata": {},
   "outputs": [],
   "source": []
  },
  {
   "cell_type": "code",
   "execution_count": null,
   "id": "2ecbe6e2-00ec-4f38-bd56-085aee13f343",
   "metadata": {},
   "outputs": [],
   "source": []
  }
 ],
 "metadata": {
  "kernelspec": {
   "display_name": "Python 3 (ipykernel)",
   "language": "python",
   "name": "python3"
  },
  "language_info": {
   "codemirror_mode": {
    "name": "ipython",
    "version": 3
   },
   "file_extension": ".py",
   "mimetype": "text/x-python",
   "name": "python",
   "nbconvert_exporter": "python",
   "pygments_lexer": "ipython3",
   "version": "3.12.7"
  }
 },
 "nbformat": 4,
 "nbformat_minor": 5
}
