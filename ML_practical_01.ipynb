{
 "cells": [
  {
   "cell_type": "code",
   "execution_count": 1,
   "id": "3313c8af-7eb2-45cd-974e-d87e1984c024",
   "metadata": {},
   "outputs": [],
   "source": [
    "# mean median mode\n",
    "def calculate_mean(numbers):\n",
    "    return sum(numbers) / len(numbers)\n"
   ]
  },
  {
   "cell_type": "code",
   "execution_count": 2,
   "id": "5c6f3d86-775e-4a0e-b199-e55a655f569a",
   "metadata": {},
   "outputs": [],
   "source": [
    "def calculate_median(numbers):\n",
    "    numbers.sort()\n",
    "    n = len(numbers)\n",
    "    middle = n // 2\n",
    "    return(numbers[middle - 1] + numbers[middle]) / 2 if n % 2 == 0 else numbers[middle]"
   ]
  },
  {
   "cell_type": "code",
   "execution_count": 3,
   "id": "a71a1436-4db2-4cfc-b588-2d8957e8b4cc",
   "metadata": {},
   "outputs": [],
   "source": [
    "def calculate_standard_deviation(numbers):\n",
    "    mean = calculate_mean(numbers)\n",
    "    variance = sum((x - mean ) ** 2 for x in numbers) / len(numbers)\n",
    "    return variance ** 0.5"
   ]
  },
  {
   "cell_type": "code",
   "execution_count": 10,
   "id": "53a925b6-4c4e-4299-b4bd-6608e8897dc5",
   "metadata": {},
   "outputs": [],
   "source": [
    "def calculate_mode(numbers):\n",
    "  from collections import Counter\n",
    "  frequency = Counter (numbers)\n",
    "  max_count = max(frequency.values())\n",
    "  return [key for key, value in frequency. items() if value == max_count]"
   ]
  },
  {
   "cell_type": "code",
   "execution_count": 15,
   "id": "5ffc4c41-0038-408a-927d-dd03198e976e",
   "metadata": {},
   "outputs": [
    {
     "name": "stdin",
     "output_type": "stream",
     "text": [
      "Enter numbers separated by spaces:  2 3 7 9\n"
     ]
    },
    {
     "name": "stdout",
     "output_type": "stream",
     "text": [
      "Mean: 5.25\n",
      "Median: 5.0\n",
      "Standard Deviation: 2.8613807855648994\n",
      "Mode: [2, 3, 7, 9]\n"
     ]
    }
   ],
   "source": [
    "# input and execution\n",
    "numbers = list(map(int, input(\"Enter numbers separated by spaces: \").split()))\n",
    "print(f\"Mean: {calculate_mean(numbers)}\")\n",
    "print(f\"Median: {calculate_median(numbers)}\")\n",
    "print(f\"Standard Deviation: {calculate_standard_deviation(numbers)}\")\n",
    "print(f\"Mode: {calculate_mode(numbers)}\")"
   ]
  },
  {
   "cell_type": "code",
   "execution_count": null,
   "id": "2ce2df09-fa33-4939-81ef-158b7335276c",
   "metadata": {},
   "outputs": [],
   "source": []
  }
 ],
 "metadata": {
  "kernelspec": {
   "display_name": "Python 3 (ipykernel)",
   "language": "python",
   "name": "python3"
  },
  "language_info": {
   "codemirror_mode": {
    "name": "ipython",
    "version": 3
   },
   "file_extension": ".py",
   "mimetype": "text/x-python",
   "name": "python",
   "nbconvert_exporter": "python",
   "pygments_lexer": "ipython3",
   "version": "3.12.7"
  }
 },
 "nbformat": 4,
 "nbformat_minor": 5
}
