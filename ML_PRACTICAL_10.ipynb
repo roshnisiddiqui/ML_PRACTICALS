{
 "cells": [
  {
   "cell_type": "code",
   "execution_count": 1,
   "id": "495b746c-3ac3-41f1-9486-f5bb6da87c61",
   "metadata": {},
   "outputs": [],
   "source": [
    "import numpy as np"
   ]
  },
  {
   "cell_type": "code",
   "execution_count": 2,
   "id": "b262b011-22ab-46a8-82b1-bdb1b484fa3c",
   "metadata": {},
   "outputs": [],
   "source": [
    "def sigmoid(x):\n",
    "    return 1 / (1 + np.exp(-x))"
   ]
  },
  {
   "cell_type": "code",
   "execution_count": 3,
   "id": "90ee3310-7f36-4366-95bd-61b7de3d86c8",
   "metadata": {},
   "outputs": [],
   "source": [
    "def sigmoid_derivative(x):\n",
    "    return x * (1 - x)"
   ]
  },
  {
   "cell_type": "code",
   "execution_count": 4,
   "id": "d5fd597e-5388-4fef-9abf-9b23f9cd74fc",
   "metadata": {},
   "outputs": [],
   "source": [
    "def binary_cross_entropy(y_true, y_pred):\n",
    "    return -np.mean(y_true * np.log(y_pred + 1e-7) + (1 - y_true) * np.log(1 - y_pred + 1e-7))\n",
    "\n"
   ]
  },
  {
   "cell_type": "code",
   "execution_count": 5,
   "id": "9d20edb8-bfce-4389-94c4-5b2c0d1b1e77",
   "metadata": {},
   "outputs": [],
   "source": [
    "def train_neural_network(X, y, epochs=10000, lr=0.1):\n",
    "    input_dim = X.shape[1]\n",
    "    weights = np.random.uniform(size=(input_dim, 1))\n",
    "    bias = np.random.uniform(size=(1,))\n",
    "\n",
    "    for epoch in range(epochs):\n",
    "        linear_output = np.dot(X, weights) + bias\n",
    "        predictions = sigmoid(linear_output)\n",
    "\n",
    "        loss = binary_cross_entropy(y, predictions)\n",
    "        error = predictions - y\n",
    "        d_pred = error * sigmoid_derivative(predictions)\n",
    "\n",
    "        weights -= lr * np.dot(X.T, d_pred)\n",
    "        bias -= lr * np.sum(d_pred)\n",
    "\n",
    "        if epoch % 1000 == 0:\n",
    "            print(f\"Epoch {epoch}, Loss: {loss:.4f}\")\n",
    "\n",
    "    return weights, bias"
   ]
  },
  {
   "cell_type": "code",
   "execution_count": 6,
   "id": "696478bb-2054-4c07-85ce-e52f710ce7d8",
   "metadata": {},
   "outputs": [],
   "source": [
    "def predict(X, weights, bias):\n",
    "    return sigmoid(np.dot(X, weights) + bias) >= 0.5\n"
   ]
  },
  {
   "cell_type": "code",
   "execution_count": 7,
   "id": "886e4dbd-6f82-4027-8b60-9c6f9bfb790e",
   "metadata": {},
   "outputs": [],
   "source": [
    "X = np.array([[0, 0], [0, 1], [1, 0], [1, 1]])"
   ]
  },
  {
   "cell_type": "code",
   "execution_count": null,
   "id": "255528cc-df63-4356-a72f-980d9f7a4f2d",
   "metadata": {},
   "outputs": [],
   "source": [
    "logic_gates = {\n",
    "    \"AND\": np.array([[0], [0], [0], [1]]),\n",
    "    \"OR\": np.array([[0], [1], [1], [1]]),\n",
    "    \"NAND\": np.array([[1], [1], [1], [0]]),\n",
    "    \"NOR\": np.array([[1], [0], [0], [0]]),\n",
    "    \"XOR\": np.array([[0], [1], [1], [0]])\n",
    "}"
   ]
  }
 ],
 "metadata": {
  "kernelspec": {
   "display_name": "Python 3 (ipykernel)",
   "language": "python",
   "name": "python3"
  },
  "language_info": {
   "codemirror_mode": {
    "name": "ipython",
    "version": 3
   },
   "file_extension": ".py",
   "mimetype": "text/x-python",
   "name": "python",
   "nbconvert_exporter": "python",
   "pygments_lexer": "ipython3",
   "version": "3.12.7"
  }
 },
 "nbformat": 4,
 "nbformat_minor": 5
}
