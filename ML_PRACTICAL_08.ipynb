{
 "cells": [
  {
   "cell_type": "code",
   "execution_count": 1,
   "id": "e6a9fec6-f65a-4a1c-a926-1af9d34e0a8d",
   "metadata": {},
   "outputs": [],
   "source": [
    "import pandas as pd\n",
    "import numpy as np\n",
    "from math import log2\n",
    "import pprint\n"
   ]
  },
  {
   "cell_type": "code",
   "execution_count": 2,
   "id": "22cce6e5-46bf-4d34-9f01-c07483275672",
   "metadata": {},
   "outputs": [],
   "source": [
    "data = pd.DataFrame([\n",
    "    ['Sunny', 'Hot', 'High', 'Weak', 'No'],\n",
    "    ['Sunny', 'Hot', 'High', 'Strong', 'No'],\n",
    "    ['Overcast', 'Hot', 'High', 'Weak', 'Yes'],\n",
    "    ['Rain', 'Mild', 'High', 'Weak', 'Yes'],\n",
    "    ['Rain', 'Cool', 'Normal', 'Weak', 'Yes'],\n",
    "    ['Rain', 'Cool', 'Normal', 'Strong', 'No'],\n",
    "    ['Overcast', 'Cool', 'Normal', 'Strong', 'Yes'],\n",
    "    ['Sunny', 'Mild', 'High', 'Weak', 'No'],\n",
    "    ['Sunny', 'Cool', 'Normal', 'Weak', 'Yes'],\n",
    "    ['Rain', 'Mild', 'Normal', 'Weak', 'Yes'],\n",
    "    ['Sunny', 'Mild', 'Normal', 'Strong', 'Yes'],\n",
    "    ['Overcast', 'Mild', 'High', 'Strong', 'Yes'],\n",
    "    ['Overcast', 'Hot', 'Normal', 'Weak', 'Yes'],\n",
    "     ['Rain', 'Mild', 'High', 'Strong', 'No']\n",
    "], columns=['Outlook', 'Temperature', 'Humidity', 'Wind', 'PlayTennis'])"
   ]
  },
  {
   "cell_type": "code",
   "execution_count": 3,
   "id": "f64d668a-4c54-4094-be18-3f88a50a4f7f",
   "metadata": {},
   "outputs": [],
   "source": [
    "def entropy(target_col):\n",
    "    values, counts = np.unique(target_col, return_counts=True)\n",
    "    entropy = sum([-p * log2(p) for p in counts / counts.sum()])\n",
    "    return entropy"
   ]
  },
  {
   "cell_type": "code",
   "execution_count": 5,
   "id": "bdae1e7c-c4b0-4d60-81a2-003bbe937224",
   "metadata": {},
   "outputs": [],
   "source": [
    "def info_gain(data, split_attribute_name, target_name=\"PlayTennis\"):\n",
    "    total_entropy = entropy(data[target_name])\n",
    "    vals, counts = np.unique(data[split_attribute_name], return_counts=True)\n",
    "    weighted_entropy = sum([\n",
    "        (counts[i] / sum(counts)) * \n",
    "        entropy(data[data[split_attribute_name] == vals[i]][target_name])\n",
    "        for i in range(len(vals))\n",
    "    ])\n",
    "    \n",
    "    information_gain = total_entropy - weighted_entropy\n",
    "    return information_gain"
   ]
  },
  {
   "cell_type": "code",
   "execution_count": 6,
   "id": "36d1b406-6fef-41ce-bc87-095c04dab242",
   "metadata": {},
   "outputs": [],
   "source": [
    "\n",
    "def ID3(data, original_data, features, target_attribute_name=\"PlayTennis\", parent_node_class=None):\n",
    "    if len(np.unique(data[target_attribute_name])) <= 1:\n",
    "        return np.unique(data[target_attribute_name])[0]\n",
    "    \n",
    "    elif len(data) == 0:\n",
    "        return np.unique(original_data[target_attribute_name])[np.argmax(\n",
    "            np.unique(original_data[target_attribute_name], return_counts=True)[1])]\n",
    "    \n",
    "    elif len(features) == 0:\n",
    "        return parent_node_class\n",
    "    \n",
    "    else:\n",
    "        parent_node_class = np.unique(data[target_attribute_name])[np.argmax(\n",
    "            np.unique(data[target_attribute_name], return_counts=True)[1])]\n",
    "        \n",
    "        item_values = [info_gain(data, feature, target_attribute_name) for feature in features]\n",
    "        best_feature_index = np.argmax(item_values)\n",
    "        best_feature = features[best_feature_index]\n",
    "        \n",
    "        tree = {best_feature: {}}\n",
    "        \n",
    "        for value in np.unique(data[best_feature]):\n",
    "            sub_data = data[data[best_feature] == value]\n",
    "            new_features = features[:best_feature_index] + features[best_feature_index+1:]\n",
    "            subtree = ID3(sub_data, original_data, new_features, target_attribute_name, parent_node_class)\n",
    "            tree[best_feature][value] = subtree\n",
    "        \n",
    "        return tree\n"
   ]
  },
  {
   "cell_type": "code",
   "execution_count": 7,
   "id": "5d941719-582e-4806-8f9b-2fb313e95764",
   "metadata": {},
   "outputs": [],
   "source": [
    "features = list(data.columns)\n",
    "features.remove(\"PlayTennis\")\n",
    "tree = ID3(data, data, features)"
   ]
  },
  {
   "cell_type": "code",
   "execution_count": 8,
   "id": "9b7ef94c-f7f4-427d-aea7-aac75c3c1cac",
   "metadata": {},
   "outputs": [
    {
     "name": "stdout",
     "output_type": "stream",
     "text": [
      "{'Outlook': {'Overcast': 'Yes',\n",
      "             'Rain': {'Wind': {'Strong': 'No', 'Weak': 'Yes'}},\n",
      "             'Sunny': {'Humidity': {'High': 'No', 'Normal': 'Yes'}}}}\n"
     ]
    }
   ],
   "source": [
    "import pprint\n",
    "pprint.pprint(tree)\n"
   ]
  },
  {
   "cell_type": "code",
   "execution_count": 9,
   "id": "19a173bb-12cd-410f-8c0b-a71d91e94679",
   "metadata": {},
   "outputs": [],
   "source": [
    "def predict(query, tree, default='Yes'):\n",
    "    for attr in query:\n",
    "        if attr in tree:\n",
    "            try:\n",
    "                result = tree[attr][query[attr]]\n",
    "            except:\n",
    "                return default\n",
    "\n",
    "            if isinstance(result, dict):\n",
    "                return predict(query, result)\n",
    "            else:\n",
    "                return result\n",
    "    return default"
   ]
  },
  {
   "cell_type": "code",
   "execution_count": 10,
   "id": "c3eda296-2e62-4581-96ff-2c8b3450b981",
   "metadata": {},
   "outputs": [
    {
     "name": "stdout",
     "output_type": "stream",
     "text": [
      "\n",
      "Predicted Output for sample is: No\n"
     ]
    }
   ],
   "source": [
    "sample = {'Outlook': 'Sunny', 'Temperature': 'Cool', 'Humidity': 'High', 'Wind': 'Strong'}\n",
    "prediction = predict(sample, tree)\n",
    "print(\"\\nPredicted Output for sample is:\", prediction)"
   ]
  },
  {
   "cell_type": "code",
   "execution_count": null,
   "id": "f1616cde-c0a2-415f-b209-e1bcce8653fa",
   "metadata": {},
   "outputs": [],
   "source": []
  }
 ],
 "metadata": {
  "kernelspec": {
   "display_name": "Python 3 (ipykernel)",
   "language": "python",
   "name": "python3"
  },
  "language_info": {
   "codemirror_mode": {
    "name": "ipython",
    "version": 3
   },
   "file_extension": ".py",
   "mimetype": "text/x-python",
   "name": "python",
   "nbconvert_exporter": "python",
   "pygments_lexer": "ipython3",
   "version": "3.12.7"
  }
 },
 "nbformat": 4,
 "nbformat_minor": 5
}
